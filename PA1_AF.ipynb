{
 "cells": [
  {
   "cell_type": "markdown",
   "id": "ee2324bb",
   "metadata": {},
   "source": [
    "* Aidan Fearn\n",
    "* Assignment 1\n",
    "* Version 1\n",
    "* Fall 2023"
   ]
  },
  {
   "cell_type": "markdown",
   "id": "0ab1725e",
   "metadata": {},
   "source": [
    "# Aidan Fearn\n",
    "### I am a junior at Bellarmine and am on the lacrosse team, I am interested in coding because I eventually want to pursue a career as a data analyst and figure coding would be a useful skill\n",
    "*Programming Assignments\n",
    "*Quizzes\n",
    "*Attendance\n",
    "*Mid-term Exam\n",
    "*Project\n",
    "1. Course Introduction\n",
    "2. Variables and Simple Data Types\n",
    "3. Introducing lists and tuples\n",
    "4. If statements\n",
    "5. Dictionaries\n",
    "6. While loops\n",
    "7. Functions\n",
    "8. Classes\n",
    "9. Numpy\n",
    "**Python**\n",
    "*Anaconda*\n",
    "`a block of words`\n"
   ]
  },
  {
   "cell_type": "markdown",
   "id": "923fba6b",
   "metadata": {},
   "source": [
    "<a href=\"https://github.com/afearn2002/First_Repo\">My Github Account</a>"
   ]
  },
  {
   "cell_type": "markdown",
   "id": "51be3e5b",
   "metadata": {},
   "source": [
    "<a href=\"https://github.com/afearn2002/First_Repo\">"
   ]
  },
  {
   "cell_type": "markdown",
   "id": "8d11475f",
   "metadata": {},
   "source": [
    "![Bellarmine Logo](https://www.bellarmine.edu/sf-images/default-source/marketing/university-seal.png?sfvrsn=b6046380_0)"
   ]
  },
  {
   "cell_type": "markdown",
   "id": "06cad343",
   "metadata": {},
   "source": [
    "I learned how to use block code"
   ]
  }
 ],
 "metadata": {
  "kernelspec": {
   "display_name": "Python 3 (ipykernel)",
   "language": "python",
   "name": "python3"
  },
  "language_info": {
   "codemirror_mode": {
    "name": "ipython",
    "version": 3
   },
   "file_extension": ".py",
   "mimetype": "text/x-python",
   "name": "python",
   "nbconvert_exporter": "python",
   "pygments_lexer": "ipython3",
   "version": "3.11.4"
  }
 },
 "nbformat": 4,
 "nbformat_minor": 5
}
